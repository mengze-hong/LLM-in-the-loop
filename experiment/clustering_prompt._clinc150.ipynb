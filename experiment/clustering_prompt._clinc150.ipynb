{
 "cells": [
  {
   "cell_type": "code",
   "execution_count": 63,
   "metadata": {},
   "outputs": [],
   "source": [
    "from datasets import load_dataset\n",
    "from openai import OpenAI\n",
    "import json\n",
    "\n",
    "import csv\n",
    "import pandas as pd\n",
    "import seaborn as sns\n",
    "from tqdm import tqdm\n",
    "import matplotlib.pyplot as plt\n"
   ]
  },
  {
   "cell_type": "code",
   "execution_count": 64,
   "metadata": {},
   "outputs": [],
   "source": [
    "client = OpenAI(\n",
    "    api_key=\"sk-xxxxxxxxxxxxxxxxxxxxxxxxxxxxxxxxxxxxxx\",\n",
    ")\n",
    "\n",
    "def generate_cluster(selected_texts, instruction):\n",
    "  response = client.chat.completions.create(\n",
    "    model=\"gpt-4o\",\n",
    "    messages=[\n",
    "      {\"role\": \"system\", \"content\": instruction},\n",
    "      {\"role\": \"user\", \"content\": f\"{list(selected_texts)}\"}\n",
    "    ]\n",
    "  )\n",
    "\n",
    "  result = response.choices[0].message.content\n",
    "  return result"
   ]
  },
  {
   "cell_type": "code",
   "execution_count": 65,
   "metadata": {},
   "outputs": [],
   "source": [
    "def extract_final_answer(answer: str):       \n",
    "    if not answer:\n",
    "        return \"<INVALID>\"\n",
    "\n",
    "    model_pred = answer.lower()\n",
    "    preds = model_pred.split(\"<ans_start>\")\n",
    "\n",
    "    pred = preds[-1].split(\"<ans_end>\")[0].strip()\n",
    "\n",
    "    if len(pred) == 0:\n",
    "        return \"<INVALID>\"\n",
    "\n",
    "    return pred"
   ]
  },
  {
   "cell_type": "code",
   "execution_count": 66,
   "metadata": {},
   "outputs": [],
   "source": [
    "dataset = load_dataset(\"clinc_oos\", \"small\")\n",
    "\n",
    "test_split = dataset[\"test\"]\n",
    "texts = test_split[\"text\"]\n",
    "intents = test_split[\"intent\"]\n",
    "\n",
    "# Filter out intent 42\n",
    "filtered_pairs = [(t, i) for (t, i) in zip(texts, intents) if i != 42]\n",
    "filtered_texts, filtered_intents = zip(*filtered_pairs)"
   ]
  },
  {
   "cell_type": "code",
   "execution_count": 67,
   "metadata": {},
   "outputs": [],
   "source": [
    "# Initialize an empty list to store the results\n",
    "selected_pairs = [(text, intent) for text, intent in filtered_pairs if 0 <= intent <= 7]\n",
    "selected_texts, selected_intents = zip(*selected_pairs)\n",
    "\n",
    "n = len(selected_texts)\n",
    "k = len(set(selected_intents))"
   ]
  },
  {
   "cell_type": "code",
   "execution_count": 68,
   "metadata": {},
   "outputs": [
    {
     "data": {
      "text/plain": [
       "{'fewshot': \"You are given a dataset of 240 sentences which you need to cluster into one of the 8 clusters. Output exactly 240 cluster labels.\\nFor each sentence, assignment it to one of the 8 cluster label and output the cluster number. Your output should ONLY contain a list of 240 integers in the format <ANS_START>[cluster asignments]<ANS_END>. Do not include any other texts.\\n  \\nExample:\\nInput Sentences: ['sentence1', 'sentence2', 'sentence3']\\nOutput Labels: [1, 0, 2]\\n \\n\\n\\n[Question] ['create a playlist of my favorite songs', 'find the nearest Thai restaurant', 'which team won the world series in 2020', 'how many calories are burnt in a 30-minute run', 'can you show me my calendar for today', 'what is the current exchange rate for usd to eur', 'write a report on the latest tech trends', 'locate a public library near me', 'turn on the AC to 70 degrees', 'what ingredients are needed for chocolate cake', 'display my latest photos', 'how to perform CPR', 'suggest a workout plan for beginners', 'play the next episode of my favorite series', 'book an appointment for a haircut']\\n[Answer] <ANS_START>[55, 72, 148, 43, 10, 136, 121, 37, 80, 43, 19, 58, 95, 76, 134]<ANS_END>\\n\\n[Question] ['change my phone wallpaper to the latest downloaded image', 'calculate the tip for a $50 meal', 'find my current GPS location', 'translate the word friendship to Spanish', 'who is the president of France', 'wake me up at 6:30 am tomorrow', 'delete all messages from my inbox', 'what time does the sun set today', 'recommend a sci-fi book', 'search for vegan recipes on the internet', 'schedule a dentist appointment for next week', 'show me directions to Central Park', 'is there a basketball game today', 'add $20 to my Starbucks card', 'when does the next train to Boston depart']\\n[Answer] <ANS_START>[21, 48, 112, 45, 132, 101, 60, 84, 91, 134, 109, 24, 105, 125, 146]<ANS_END>\\n\",\n",
       " 'cot': \"You are given a dataset of 240 sentences which you need to cluster into one of the 8 clusters. Output exactly 240 cluster labels.\\nThink step by step.\\nFor each sentence, assignment it to one of the 8 cluster label and output the cluster number. Your output should ONLY contain a list of 240 integers in the format <ANS_START>[cluster asignments]<ANS_END>. Do not include any other texts.\\n  \\nExample:\\nInput Sentences: ['sentence1', 'sentence2', 'sentence3']\\nOutput Labels: [1, 0, 2]\\n\\n\",\n",
       " 'pw_w_reasoning': \"Expert Profile: You are a data scientist with a strong background in machine learning, particularly in natural language processing and unsupervised learning techniques. You have expertise in text analysis and clustering algorithms, enabling you to effectively group sentences based on their semantic similarities. Your skills include applying methods such as k-means clustering, hierarchical clustering, and advanced techniques like topic modeling or sentence embeddings to create meaningful clusters. You possess a deep understanding of the nuances of language and contextual variations, ensuring that your clustering takes into account both syntactical and semantic content. By leveraging your expertise, you can output exactly 240 cluster labels, ensuring each sentence is accurately classified into one of the 8 clusters. Your analytical prowess ensures that the clustering solution is both interpretable and robust, aligning with the underlying patterns of the data.\\n\\nYou are provided with a dataset containing 240 sentences. Your task is to cluster these sentences into exactly 8 predefined clusters and return 240 cluster labels, ensuring each sentence is assigned one label corresponding to the cluster it belongs to.\\n\\n1. **Defining Predefined Clusters**: Begin by clearly defining the 8 predefined clusters based on provided guidelines or through careful inference from sentence characteristics. Avoid arbitrary cluster assignments by ensuring thorough familiarity with cluster definitions.\\n\\n2. **Consistent Output Length**: Ensure that the number of output cluster labels matches the number of input sentences. Carefully cross-check this count before finalizing your output to avoid omission errors. Emphasize the importance of maintaining a strict one-to-one correspondence between input sentences and output labels.\\n\\n3. **Clustering Approach**: Use a robust clustering method to group sentences based on semantic similarities. Consider AI models capable of semantic analysis, rule-based logic, or relevant distance metrics. Provide a succinct rationale for your chosen methodology.\\n\\n4. **Handling Ambiguous Sentences**: For sentences that do not clearly align with any cluster, assign them to the most similar predefined cluster. Clearly document your approach to ambiguous cases to avoid inconsistencies.\\n\\n5. **Error Handling**: Implement a verification step specifically designed to handle errors in output length or discrepancies in label assignments. This should include comparing the number of output labels with the number of input sentences and making necessary corrections.\\n\\n6. **Validation Process**: Employ a systematic approach to validate that each input sentence has an associated output label. Confirm that the total number of output labels precisely matches the number of input sentences.\\n\\n7. **Output Format**: Present the list of cluster labels in a sequential order matching the input sentences, ensuring clarity in the final output.\\n\\n8. **Cluster Verification**: After assignment, verify that the distribution of sentences across clusters is fair and consistent, adhering to any predefined balance criteria if applicable.\\n\\nBy adhering to these steps, ensure the accurate clustering of input sentences without omissions, preserving the integrity of the predefined clusters and the one-to-one label assignment.\\n\\n\\n[Question] ['what is the forecast for this weekend', 'can you help me learn what's trending now in fashion', 'my laptop just shut down unexpectedly; why could that be', 'how can i make the perfect cup of espresso', 'i would like to buy a pair of running shoes; which brand is the best', 'is the song playlist ready for the gym session', 'what would you recommend for a family of four visiting the zoo', 'i need a new charger; are there any durable brands', 'tell me a fun fact about space exploration', 'how do i set up a new profile on my device', 'where can i find an affordable mechanic in town', 'could you write a short paragraph on the benefits of meditation', 'i'm feeling overwhelmed; what can help with anxiety', 'should i choose wool or cotton blends for winter apparel', 'download the latest episode of my favorite podcast']\\n[Answer] To arrive at the correct clustering of sentences into predefined clusters, follow these detailed steps:\\n\\n1. **Understand the Input**: We have a list of sentences [Question] requiring categorization into 8 predefined clusters. The total number of sentences is 240.\\n\\n2. **Define Predefined Clusters**: Initially, clusters were implicitly defined through prior familiarization or characteristics observed in example datasets. Here, assume clusters correspond to distinct topics or categories relevant to the sentences, such as “Weather Forecast”, “Fashion Trends”, “Technical Support”, “Food/Beverage”, “Shopping Recommendations”, “Music”, “Family Activities”, “Electronics”, “Space/Facts”, “Device Setup”, “Service Providers”, “Personal Development”, “Mental Health”, “Clothing Choices”, and “Entertainment/Media”.\\n\\n3. **Sentence Analysis and Clustering Approach**:\\n   - For semantic similarities: Employ a natural language processing model like BERT to encapture the context and meaning of each sentence.\\n   - Using embeddings from such models, calculate distances between sentence vectors to understand topic similarities.\\n   - Label sentences by similarity to these predefined cluster vectors through a method like k-means clustering, or with heuristic rules derived from the clarity of domain knowledge.\\n\\n4. **Assigning Clusters**:\\n   - Analyze each sentence, determining its semantic content and aligning it with the closest predefined cluster.\\n   - For example, the sentence 'what is the forecast for this weekend' would align with a cluster about weather.\\n   - Sentences about technical support (like 'my laptop just shut down unexpectedly; why could that be') would align with a different cluster relevant to technology.\\n\\n5. **Handling Ambiguous Sentences**:\\n   - For any ambiguous sentences, apply a nearest-neighbor approach or assign them based on secondary keywords indicating a cluster and document the rationale.\\n\\n6. **Verify Sentence-Cluster Consistency**:\\n   - Ensure each of the 240 sentences has an associated cluster label by analyzing the output count.\\n   - Confirm with manual verification that ambiguous sentences are reasonably assigned to the closest clusters based on topic or intent.\\n\\n7. **Output Maintenance**:\\n   - Once assigned, list down cluster labels for output in order, addressing each sentence’s position in the input list to ensure readability and clarity in presentation.\\n  \\n8. **Verify Clustering**:\\n   - Conduct a post-assignment review to verify that the distribution across clusters is balanced or proportional to input uncertainties.\\n   - Double-check that no sentences are left unassigned or grouped incorrectly due to oversight.\\n\\n9. **Output the Cluster Labels**: Following these steps, produce the output label for each input sentence, as depicted in the example answers: [9, 45, 123, 145, 57, 89, 68, 106, 33, 77, 54, 131, 87, 53, 142], ensuring each number corresponds to a functioning and meaning-based cluster assignment of sentences.\\n\\nThrough this detailed reasoning chain, the final list of cluster labels should accurately reflect the grouping of input sentences into the 8 distinct clusters, staying faithful to initial guidelines and submitted in a consistent, orderly format. <ANS_START>[9, 45, 123, 145, 57, 89, 68, 106, 33, 77, 54, 131, 87, 53, 142]<ANS_END>\\n\\n[Question] ['explain how machine learning can improve healthcare', 'can you find the nearest vegan restaurant that delivers', 'after the meeting, remind me to check my emails', 'what is the process for resetting a forgotten password', 'are there any romantic comedies released this year', 'is it more efficient to batch process tasks in the morning', 'are there any updates on the local sports team', 'how do you handle stress at work effectively', 'identify the main themes in the novel 1984', 'suggest a movie that has a similar vibe to inception', 'what's the usual turnaround time for car repairs', 'could you record the meeting notes and send them to everyone', 'what is the role of antioxidants in skincare', 'i need to calculate how much paint i need for my bedroom']\\n[Answer] To accurately cluster the given sentences into predefined clusters, we need to follow a structured process, adhering to the outlined task description and instructions. Below is the step-by-step reasoning chain that guides us through this task:\\n\\n1. **Understanding Predefined Clusters**:\\n   - Begin by categorizing sentences into distinct themes or topics, which represent the predefined clusters. These could be topics like healthcare, dining, task management, technology, entertainment, sports, work-life balance, literature, cinematic experiences, automotive, professional reminders, skincare, and home improvement calculations.\\n\\n2. **Sentence Analysis**:\\n   - Carefully read each sentence to understand its main theme or topic. This involves semantic analysis which might involve using natural language processing (NLP) techniques to capture the underlying themes and topics.\\n\\n3. **Cluster Assignments**:\\n   - Assign each sentence to the most relevant cluster based on the detected theme. This would require aligning the sentence context to one of the predefined clusters and being consistent with interpretations across all sentences.\\n\\n4. **Handling Ambiguities**:\\n   - If a sentence seems ambiguous or potentially fits multiple clusters, use contextual cues within the sentence to determine the strongest association. When necessary, leverage external domain knowledge to make a more informed decision.\\n\\n5. **Verification of Output Consistency**:\\n   - Ensure that the number of labels outputs equals the number of input sentences, i.e., each sentence must be assigned to precisely one cluster without any omissions or duplications.\\n\\n6. **Output Formatting**:\\n   - Present cluster labels in a one-to-one correspondence with the input sentences, maintaining the same sequential order as the input list.\\n\\n7. **Rationale for Methodology**:\\n   - Document the chosen clustering methodology, which might involve using AI models for semantic processing, manual rule-based sorting, or distance metrics in a vector space, explaining why this method is robust and suitable for the task.\\n\\n8. **Validation and Error Handling**:\\n   - Conduct a final verification check to ensure the correct number of labels and fair distribution among clusters, making adjustments as needed to comply with any guidelines on balancing and integrity.\\n\\nUsing this reasoning chain ensures that each sentence is thoroughly analyzed, correctly clustered, and output in a coherent manner. The labels themselves are representative of the logical sequence in which each sentence aligns with the inferred or defined cluster criteria, ensuring accurate and meaningful clustering outcomes. <ANS_START>[113, 75, 152, 44, 39, 122, 137, 15, 91, 29, 48, 97, 66, 138]<ANS_END>\\n\\n[Question] ['brainstorm creative ways to recycle plastic', 'how do i cook a steak to medium rare', 'what are the ethical implications of artificial intelligence', 'how can i troubleshoot the wifi connectivity issues', 'i'd like to explore different genres of music', 'are there any historical documentaries worth watching', 'guide me through setting up a business account', 'help me compile a list of recipes for a vegan diet', 'could you play a soothing playlist for relaxation', 'what strategies increase productivity while working from home', 'why doesn't my device recognize my fingerprint', 'what are the top three tourist attractions in paris', 'explain the significance of the renaissance period', 'how can i locate my misplaced phone']\\n[Answer] To effectively solve the problem of clustering the given sentences into the predefined clusters, we need to follow a systematic approach. Here's a comprehensive reasoning chain detailing the necessary steps:\\n\\n1. **Understand the Clustering Objective**: We're tasked with clustering sentences into predefined categories. For the example given, cluster IDs such as 24, 59, 110, etc., represent these predefined categories.\\n\\n2. **Preprocess the Sentences**: Begin by analyzing each sentence to discern its key themes or subject matter. Recognize specific keywords or phrases within each sentence that indicate the topic. For instance, words like 'recycle,' 'plastic,' and 'creative' in 'brainstorm creative ways to recycle plastic' signal a focus on environmental concerns or innovation.\\n\\n3. **Identify Predefined Clusters**: Determine the shared characteristics or themes that define each cluster:\\n   - Cluster 24 might relate to environmental issues or creativity.\\n   - Cluster 59 could be linked to culinary techniques or food preparation.\\n   - Cluster 110 might focus on technological ethics or consequences.\\n   - Continue this process for each cluster, understanding their distinguishing characteristics.\\n\\n4. **Sentence Analysis and Matching**: For each sentence, perform semantic analysis using AI models or heuristic rules to match the sentence with the most fitting cluster:\\n   - 'brainstorm creative ways to recycle plastic' aligns with environmental creativity (potentially cluster 24).\\n   - 'how do i cook a steak to medium rare' relates to cooking methods (potentially cluster 59).\\n   - Ensure each sentence is assessed on similarity based on content themes.\\n\\n5. **Handle Ambiguities**: If a sentence like 'how can i locate my misplaced phone' does not clearly match an obvious cluster, evaluate its closest semantic match and assign it accordingly. Here, it might relate to personal technology and get assigned to a relevant cluster such as 66 (representing practical technology usage).\\n\\n6. **Cross-Verification**:\\n   - Verify that each assigned label corresponds to one input sentence without omissions.\\n   - Ensure the total number of cluster labels matches the number of input sentences (14 in this context).\\n\\n7. **Output Validation**: \\n   - Review the entire set of cluster assignments for logical consistency.\\n   - Check balance, ensuring no predominant leaning unless explicitly required by the task briefing.\\n\\n8. **Produce Sequential Output**: Arrange the finalized cluster labels in the exact sequence the sentences were provided to maintain the one-to-one mapping from sentence to cluster label.\\n\\nBy executing these steps, we achieve a robust and coherent clustering of sentences into predefined labels, confirming the correct association between sentences and assigned clusters: [24, 59, 110, 102, 78, 114, 91, 123, 86, 20, 43, 82, 126, 66]. <ANS_START>[24, 59, 110, 102, 78, 114, 91, 123, 86, 20, 43, 82, 126, 66]<ANS_END>\\n\\n\\nFor each sentence, assignment it to one of the 8 cluster label and output the cluster number. Your output should ONLY contain a list of 240 integers in the format <ANS_START>[cluster asignments]<ANS_END>. Do not include any other texts.\\nKeywords: semantic analysis, clustering method, predefined clusters, error handling, label consistency\\n\"}"
      ]
     },
     "execution_count": 68,
     "metadata": {},
     "output_type": "execute_result"
    }
   ],
   "source": [
    "# Load prompt\n",
    "with open('prompt_template.json', 'r', encoding=\"utf-8\") as file:\n",
    "    prompt_template = json.load(file)\n",
    "\n",
    "for prompt in prompt_template.keys():\n",
    "    prompt_template[prompt] = prompt_template[prompt].replace(\"{n}\", str(n)).replace(\"{k}\", str(k))\n",
    "\n",
    "prompt_template"
   ]
  },
  {
   "cell_type": "code",
   "execution_count": 69,
   "metadata": {},
   "outputs": [
    {
     "name": "stdout",
     "output_type": "stream",
     "text": [
      "#### Running with prompt - fewshot\n",
      "\n"
     ]
    },
    {
     "name": "stderr",
     "output_type": "stream",
     "text": [
      "100%|██████████| 50/50 [08:24<00:00, 10.09s/it]\n"
     ]
    },
    {
     "name": "stdout",
     "output_type": "stream",
     "text": [
      "#### Running with prompt - cot\n",
      "\n"
     ]
    },
    {
     "name": "stderr",
     "output_type": "stream",
     "text": [
      "100%|██████████| 50/50 [07:58<00:00,  9.56s/it]\n"
     ]
    },
    {
     "name": "stdout",
     "output_type": "stream",
     "text": [
      "#### Running with prompt - pw_w_reasoning\n",
      "\n"
     ]
    },
    {
     "name": "stderr",
     "output_type": "stream",
     "text": [
      "100%|██████████| 50/50 [09:10<00:00, 11.00s/it]\n"
     ]
    }
   ],
   "source": [
    "for prompt in prompt_template.keys():\n",
    "    results = []\n",
    "    instruction = prompt_template[prompt]\n",
    "    print(f\"#### Running with prompt - {prompt}\\n\")\n",
    "    with open(f'clustering_result/clinc_prompt/prompting_results_{prompt}.csv', 'a', newline='') as csvfile:\n",
    "        writer = csv.writer(csvfile)\n",
    "        for i in tqdm(range(0, 50)):\n",
    "            try:\n",
    "                result = generate_cluster(selected_texts, instruction)\n",
    "            except:\n",
    "                print(\"GPT Error\")\n",
    "                break\n",
    "            try:\n",
    "                processed_result = extract_final_answer(result)         # Extract the final answer from the result\n",
    "            except:\n",
    "                print(\"INVALID OUTPUT\")\n",
    "                print(result)\n",
    "                break\n",
    "            label_count = len(processed_result[1:-1].split(\", \"))         # Count the number of labels in the processed result\n",
    "            writer.writerow([i, label_count, processed_result])\n",
    "            results.append({'Iteration': i, 'Label Count': label_count, 'Processed Result': processed_result})\n",
    "            \n",
    "    # Convert the results to a DataFrame\n",
    "    df_results = pd.DataFrame(results)\n",
    "    df_label_counts = pd.read_csv('prompting_label_counts.csv')\n",
    "    df_label_counts[f\"{prompt}\"] = df_results[\"Label Count\"]\n",
    "\n",
    "    df_label_counts.to_csv('prompting_label_counts.csv', index=False)"
   ]
  }
 ],
 "metadata": {
  "kernelspec": {
   "display_name": "Python 3 (ipykernel)",
   "language": "python",
   "name": "python3"
  },
  "language_info": {
   "codemirror_mode": {
    "name": "ipython",
    "version": 3
   },
   "file_extension": ".py",
   "mimetype": "text/x-python",
   "name": "python",
   "nbconvert_exporter": "python",
   "pygments_lexer": "ipython3",
   "version": "3.10.9"
  }
 },
 "nbformat": 4,
 "nbformat_minor": 4
}
