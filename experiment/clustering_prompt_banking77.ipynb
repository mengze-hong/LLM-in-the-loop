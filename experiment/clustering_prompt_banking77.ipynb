{
 "cells": [
  {
   "cell_type": "code",
   "execution_count": 1,
   "metadata": {},
   "outputs": [
    {
     "name": "stderr",
     "output_type": "stream",
     "text": [
      "c:\\Users\\MengZe\\AppData\\Local\\Programs\\Python\\Python312\\Lib\\site-packages\\tqdm\\auto.py:21: TqdmWarning: IProgress not found. Please update jupyter and ipywidgets. See https://ipywidgets.readthedocs.io/en/stable/user_install.html\n",
      "  from .autonotebook import tqdm as notebook_tqdm\n"
     ]
    }
   ],
   "source": [
    "from datasets import load_dataset\n",
    "from openai import OpenAI\n",
    "import json\n",
    "\n",
    "import csv\n",
    "import pandas as pd\n",
    "import seaborn as sns\n",
    "from tqdm import tqdm\n",
    "import matplotlib.pyplot as plt\n"
   ]
  },
  {
   "cell_type": "code",
   "execution_count": 2,
   "metadata": {},
   "outputs": [],
   "source": [
    "client = OpenAI(\n",
    "    api_key=\"sk-xxxxxxxxxxxxxxxxxxxxxxxxxxxxxxxxxxxxxx\",\n",
    ")\n",
    "\n",
    "def generate_cluster(selected_texts, instruction):\n",
    "  response = client.chat.completions.create(\n",
    "    model=\"gpt-4o\",\n",
    "    messages=[\n",
    "      {\"role\": \"system\", \"content\": instruction},\n",
    "      {\"role\": \"user\", \"content\": f\"{list(selected_texts)}\"}\n",
    "    ]\n",
    "  )\n",
    "\n",
    "  result = response.choices[0].message.content\n",
    "  return result"
   ]
  },
  {
   "cell_type": "code",
   "execution_count": 3,
   "metadata": {},
   "outputs": [],
   "source": [
    "def extract_final_answer(answer: str):       \n",
    "    if not answer:\n",
    "        return \"<INVALID>\"\n",
    "\n",
    "    model_pred = answer.lower()\n",
    "    preds = model_pred.split(\"<ans_start>\")\n",
    "\n",
    "    pred = preds[-1].split(\"<ans_end>\")[0].strip()\n",
    "\n",
    "    if len(pred) == 0:\n",
    "        return \"<INVALID>\"\n",
    "\n",
    "    return pred"
   ]
  },
  {
   "cell_type": "code",
   "execution_count": 33,
   "metadata": {},
   "outputs": [
    {
     "name": "stdout",
     "output_type": "stream",
     "text": [
      "['My account shows the card payment cancelled.', 'what happens to the funds if a merchant refuses the payment', 'There must be an issue, why has my card been cancelled?', 'What do I do if it says my card payment has been cancelled?', 'I did a payment but the app reverted it', 'I think my card payment had been return', 'I was contacted by a seller with a message that they never received my money. I am 100% sure it was taken from my account so I definitely need this sorted out soon.', 'If my card payment is cancelled, what should I do?', 'My credit card cancelled a payment for a purchase.', 'What is the reason that my card payment was cancelled?', 'There was a canceled payment for my card.', 'My card is being declined for a purchase. I bought items before and the card worked. Do you know what the problem is?', 'I have a payment listed as cancelled.', 'My card payment was reverted.  Why?', 'Why was my payment reversed?', 'My transaction to pay for an item was returned to my account.', \"What happens if a merchant doesn't accept a payment?\", 'Why was my card payment cancelled?', \"I don't know where this transaction came from?\", 'There is a fraudulent charge on my statement.', 'There is a payment that is not mine in the app.  Please advise/', \"Can you freeze my account?  I just saw there are transactions on my account that I don't recognize.  How can I fix this?\", \"I don't recall making that payment?\", \"What should I do if I see a payment I didn't make?\", \"There are some strange charges on my card that I didn't make from a few days ago.  Is my card stolen and if so should I cancel it?  Will I get refunded the charges?\", \"Please put a freeze on my card,  I am worried there has been some payments on it and I don't know what for.\", \"I'm not familiar with a card payment.\", 'Some of my card payments look different than where I purchased products from. Why is that?', 'There is a strange payment on my statement. What should I do?', \"What should I do to get transactions off of my account if I didn't make them?  My card must have been compromised and I need to freeze it asap!\", \"Why would there be a payment on my account I don't recognize?\", 'I found an unauthorized card payment', 'I think my statement has a fraudulent charge', \"I see a charge on my account that I don't recall making. I feel like my account may have been compromised.\", 'There is a payment that is not mine.', 'Do you have an auto top-up option?', 'Is there a way to top-up automatically?', 'Is there an auto top-up option?', 'how do I top up my money automatically', \"If there isn't much money left can it automatically top-up?\", 'where is theft-top option?', \"Will it automatically top-up if there isn't much money left?\", 'Can I have it add money automatically in certain intervals?', \"I've tried looking for the auto-top up option on your website and I can't seem to find it. Can you help me?\", 'If I will be traveling, is there a way to auto top-up my card on certain days?', \"What's the limit on automatic top-up?\", 'Is there any way to Auto top-up?', 'I just activated auto top-up, but it is not letting me enable it. Why not?', 'Can you explain where I can find the auto-top option?', 'Can I have it add money at certain time intervals when I travel?', 'Where is the auto top-up option?', 'Do you have any limit on the auto top-up?', 'Can I space out how often money is transferred along my travels?', 'Why are there limits on auto top-up?', 'What is the highest limit for Auto Top?', 'Can I be topped up once I hit a certain balance?', 'What is the auto top up function and where can I find that at?', 'When traveling, can I auto top-up my card at certain times?', \"Is there a top-up feature, if there isn't a lot of money left?\", 'Are there limits on auto top-up?', \"Will it automatically top-up or do I need to do that manually if there isn't much cash left?\", 'How do I use auto top up?', \"How do I make sure I don't run out of money on my card while traveling?\", \"I read about the auto-top up function, but can't find it in the app.\", \"I'm running out of money, can I  auto top up?\", 'can you assist me with the auto top up ?', \"Can it automatically top-up money if there isn't much left?\", 'Are there any hindrances to using a disposable virtual card?', 'How many disposable cards can I make in a single day?', 'What if I need multiple disposable cards?', 'What is the limit to number of transactions I can do with a disposable card?', 'What is the amount of disposable cards I can have each day?', 'What is the limit to disposable cards you can have?', 'What is the maximum number of transactions I can make with one card?', 'Is it possible to make several disposable cards in a day?', 'How many card payments can I use on a disposable card?', 'Are you able to explain the restrictions of the disposable cards?', 'I would like to know any restrictions for the disposable cards.', 'How many disposable cards can I have?', 'what is the disposable cards limit?', 'How many virtual cards do I get?', 'What can I use a virtual disposable card for?', 'How can I create many temporary cards daily?', 'The withdrawal was declined I am unsure as to why this happened?', 'Is there a reason that the ATM declined my transaction?', \"The ATM keeps declining my card. I tried at two different ATMs. Can you tell me if there's an issue with my account?\", 'Why could I not choose cash at the ATM?', 'Why was my ATM transaction cancelled?', 'I want to know why I have been unable to withdrawn funds.', 'My ATM transaction was unsuccessful.', \"Why didn't the ATM give me my money?\", \"I can't get money out of the ATM\", 'The cash I tried to draw from the ATM was not approved.', 'Why did the ATM machine fail to give me a cash withdrawal?', 'Why was I declined getting cash?', \"Can you tell me why you won't let me get my own money out of the money machine? I know I used the right PIN.\", 'Hi, I was trying to use my card but it was declining by ATM. I have cross checked with two different ATMs but i was facing the same issue. Could you please check my account.', \"How come I can't take money out of the ATM?\", \"I need your help to check my account, please! My card keeps being declined at the ATM, and I've already tried two different ones!\", 'I attempted to get cash but was declined.', 'atm would not give me cash', \"This is very frustrating. I can't get my card to work on any ATM I try and I've tried 3 of them so far. What's going on? Can you please fix this issue immediately?\", 'Why was I declined at the ATM today when I was trying to make a withdraw?', 'My withdrawal was cancelled.', \"why couldn't I get cash in the ATM?\", 'I tried to make a cash withdrawal and it was declined. Why did this happen?', 'What are some reasons that would cause ATM machines to decline my card? It has happened to me multiple times!', \"The ATM didn't let me get any cash\", \"The ATM is declining my card. I tried at two different ATMs. Can you tell me if there's anything wrong with my account?\", \"The ATM isn't giving out any money.\", 'Why was my cash withdrawal declined?', 'i tried to withdraw money from an atm and i was declined on front of my friends. Why did this happen?', \"I couldn't get cash at the atm\", 'The ATM did not allow me to withdraw', \"Why can't I get cash?\", 'Hi, My card withdrawal was declined this morning. It was working fine till yesterday. Please check and inform me.', \"Oh my goodness, my card has been declined twice at ATM! I tried two different ATM, but each one declined my card! Can you tell me what's going on with my account?\", 'Why could I not get cash?', 'I tried to withdraw money but I was declined!', \"The ATM keeps declining my card. I tried at a couple different ATMs. Can you tell me if there's a problem with my account?\", 'I was at the ATM trying to made a withdraw and I was declined.', 'My cash withdrawl was declined why?', 'I was declined when I tried to get cash.', 'Can I get paid in another currency?', 'Is there a problem with receiving my salary in GBP?', 'What if I need my salary in a different currency?', 'Can my friends send me money?', 'Will salary be received through this?', 'How do I get my salary through this account?', 'Is GBP a supported currency?', 'Can I get paid in a different currency?', 'Do I need to choose GBP to get my salary deposited properly?', 'Can this be used to receive my salary?', 'I get paid in GBP. Should I configure this and if so, where?', 'How can my friend send me money?', 'Is it possible for me to get money out in a different currency?', 'I received my salary in GBP. How do I change this to my currency?', 'How can my friend transfer money to me?', 'How do i get my salary in the account?', \"can I transfer my salary if it's in a different currency?\", 'My salary is received in the form of GBP. Do I need to do anything specific to configure this?', 'Can I use this to receive my salary?', 'Can I directly transfer my salary onto here?', 'How do I deposit my paycheck to this account?', 'How can someone send me money?', 'Do you know if I can use this for my salary?', 'Salary in GBP has been received, does it need to be configured elsewhere?', 'I receive my salary in GBP. Do I need to configure this somehwere?', 'How do I get my paycheck through this?', 'Can I get my salary through this?', 'How can I get paid in a different currency?', 'Can I use this account to receive my salary?', 'Can i deposit my salary to this account?', 'My salary is in GBP; how can I note this in the app?', 'Is my salary eligible for this?', 'Do I need to establish I am paid in GBP before a transfer?', 'How do people send me money?', 'Can I get my paycheck through here?', 'What do I need to do to transfer my paycheck to my account?', 'Can I receive my salary in a currency other than what it is deposited in?', 'Is it possible to deposit money in GBP?', \"I don't understand why it says I have to verify the top-up.\", 'How can I find the top-up verification code?', 'Can I verify a top-up and what card is used?', 'What is the importance of verifying the top-up?', 'Is it possible to verify a top up?', 'Where can I find the top-up verification code?', 'I need help finding the verification code for my top-up card.', 'How do I find the verification code for my top-up card?', \"help me find the top-up card's verification code?\", 'What is the verification code on a top-up?', 'Why does top-up need verifying?', 'Where do I go to get the code to verify the top up card?', 'How is the top-up card verified?', 'What all is needed to verify the top-up card?', 'Can you give me information about verification code?', 'Where can I find the verification code on a top-up card?', 'Why do I have to verify the top-up that I started?', 'Is it necessary to verify my top up?', 'Is there a verification code for the top-up card?', 'Why does the top-up need verification?', 'Why do you need code verification for my top up?', 'How do I verify a top-up?', 'How do I get my top-up verification code?', \"Where's the verification code for the top-up card?\", 'Why do I have to verify the top-up?', 'I cannot locate the verification code for my top-up card. Please help me.', 'What is the necessity of verifying the top up?', 'Is it normal to have to verify my top-up or is something wrong?', \"I can't find the top-up verification code.\", 'Why am i to verify the top-ups?', 'Is there a verification code for top-ups?', 'Where do I find the top-up verification code?', 'How do I go forth verifying my top-up card?', 'how come the verification with the top up', 'Why is it important to verify a top-up card?', 'Can I verify a top up?', 'The top-up verification code is missing', 'It wants me to verify the top up. Why?', 'What are the benefits to verifying the top-up?', 'Will it cost more money if my currency needs to be exchanged?', 'How much more do I have to pay to exchange currencies?', 'Is there a fee for exchanging currencies?', 'Does it cost extra to exchange currencies?', 'What are your currency exchange fees?', 'If I want to exchange currency, will there be extras?', 'Is there a discount for frequently exchanging currencies?', 'does it cost to exchange currencies?', 'Does it cost anything for exchanges?', 'How much is a cross currency exchange, and can I check to see if I have any discounts available?', 'Would I be charged for exchanging currencies?', 'What is the exchange fee?', 'whats your exchange rate', 'how much you charge for exhcange', 'Where do I find the exchange rate?', 'When I travel, what will it cost to switch for my currency?', 'Is there an exchange fee?', 'Are there any extra hidden fees for exchanging currencies?', 'I would like to exchange currencies, but is there an extra charge to do so?', 'My work sends me all over the world, can I get a discount for all the money I have to exchange?', 'Is there any discount for someone that exchanges currencies frequently?', 'Is there a fee for exchanging foreign currencies?', 'Is there a charge for a foreign currency exchange?', 'How much does it cost to exchange currencies?', 'Can I exchange money from abroad without additional costs?', 'What is the base amount for cross-currency exchanges?', 'How much do I have to pay for the exchange fee?', 'Is there a fee to exchange foreign money?', 'Do you offer a discount on multiple currency exchanges?', 'whats the exchange charge', 'Do I have to pay for exchanging currencies?', 'If I need to exchange currency is there an extra fee?', 'How much will I pay to exchange foreign currency?', 'Are there extra charges for exchanging currency?', 'Does it cost to exchange currencies with this card?', 'I was wondering if there were any discounts offered for frequent currency exchanges?', 'What is the cost for an exchange fee?', 'I will need to exchange currencies frequently, will I be able to get a discount?', 'Does it cost money for currency exchange services?', 'Will I be charged a fee for exchanging foreign currencies?']\n",
      "[53, 53, 53, 53, 53, 53, 53, 53, 53, 53, 53, 53, 53, 53, 53, 53, 53, 53, 16, 16, 16, 16, 16, 16, 16, 16, 16, 16, 16, 16, 16, 16, 16, 16, 16, 4, 4, 4, 4, 4, 4, 4, 4, 4, 4, 4, 4, 4, 4, 4, 4, 4, 4, 4, 4, 4, 4, 4, 4, 4, 4, 4, 4, 4, 4, 4, 4, 29, 29, 29, 29, 29, 29, 29, 29, 29, 29, 29, 29, 29, 29, 29, 29, 26, 26, 26, 26, 26, 26, 26, 26, 26, 26, 26, 26, 26, 26, 26, 26, 26, 26, 26, 26, 26, 26, 26, 26, 26, 26, 26, 26, 26, 26, 26, 26, 26, 26, 26, 26, 26, 26, 26, 26, 50, 50, 50, 50, 50, 50, 50, 50, 50, 50, 50, 50, 50, 50, 50, 50, 50, 50, 50, 50, 50, 50, 50, 50, 50, 50, 50, 50, 50, 50, 50, 50, 50, 50, 50, 50, 50, 50, 71, 71, 71, 71, 71, 71, 71, 71, 71, 71, 71, 71, 71, 71, 71, 71, 71, 71, 71, 71, 71, 71, 71, 71, 71, 71, 71, 71, 71, 71, 71, 71, 71, 71, 71, 71, 71, 71, 71, 31, 31, 31, 31, 31, 31, 31, 31, 31, 31, 31, 31, 31, 31, 31, 31, 31, 31, 31, 31, 31, 31, 31, 31, 31, 31, 31, 31, 31, 31, 31, 31, 31, 31, 31, 31, 31, 31, 31, 31]\n"
     ]
    }
   ],
   "source": [
    "# Load data from banking77_sent2label.json\n",
    "with open('dataset/banking77_sent2label.json', 'r', encoding='utf-8') as file:\n",
    "    data = json.load(file)\n",
    "\n",
    "# Extract texts and cluster labels\n",
    "texts = list(data.keys())\n",
    "cluster_labels = list(data.values())\n",
    "\n",
    "# Print the extracted texts and cluster labels\n",
    "print(texts)\n",
    "print(cluster_labels)"
   ]
  },
  {
   "cell_type": "code",
   "execution_count": 40,
   "metadata": {},
   "outputs": [],
   "source": [
    "n = len(texts)\n",
    "k = len(set(cluster_labels))"
   ]
  },
  {
   "cell_type": "code",
   "execution_count": 42,
   "metadata": {},
   "outputs": [
    {
     "data": {
      "text/plain": [
       "{'vanilla': \"You are given a dataset of 240 sentences which you need to cluster into one of the 8 clusters. Output exactly 240 cluster labels.\\nFor each sentence, assignment it to one of the 8 cluster label and output the cluster number. Your output should ONLY contain a list of 240 integers in the format <ANS_START>[cluster asignments]<ANS_END>. Do not include any other texts.\\n  \\nExample:\\nInput Sentences: ['sentence1', 'sentence2', 'sentence3']\\nOutput Labels: [1, 0, 2]\\n\",\n",
       " 'fewshot': \"You are given a dataset of 240 sentences which you need to cluster into one of the 8 clusters. Output exactly 240 cluster labels.\\nFor each sentence, assignment it to one of the 8 cluster label and output the cluster number. Your output should ONLY contain a list of 240 integers in the format <ANS_START>[cluster asignments]<ANS_END>. Do not include any other texts.\\n  \\nExample:\\nInput Sentences: ['sentence1', 'sentence2', 'sentence3']\\nOutput Labels: [1, 0, 2]\\n \\n\\n\\n[Question] ['create a playlist of my favorite songs', 'find the nearest Thai restaurant', 'which team won the world series in 2020', 'how many calories are burnt in a 30-minute run', 'can you show me my calendar for today', 'what is the current exchange rate for usd to eur', 'write a report on the latest tech trends', 'locate a public library near me', 'turn on the AC to 70 degrees', 'what ingredients are needed for chocolate cake', 'display my latest photos', 'how to perform CPR', 'suggest a workout plan for beginners', 'play the next episode of my favorite series', 'book an appointment for a haircut']\\n[Answer] <ANS_START>[55, 72, 148, 43, 10, 136, 121, 37, 80, 43, 19, 58, 95, 76, 134]<ANS_END>\\n\\n[Question] ['change my phone wallpaper to the latest downloaded image', 'calculate the tip for a $50 meal', 'find my current GPS location', 'translate the word friendship to Spanish', 'who is the president of France', 'wake me up at 6:30 am tomorrow', 'delete all messages from my inbox', 'what time does the sun set today', 'recommend a sci-fi book', 'search for vegan recipes on the internet', 'schedule a dentist appointment for next week', 'show me directions to Central Park', 'is there a basketball game today', 'add $20 to my Starbucks card', 'when does the next train to Boston depart']\\n[Answer] <ANS_START>[21, 48, 112, 45, 132, 101, 60, 84, 91, 134, 109, 24, 105, 125, 146]<ANS_END>\\n\",\n",
       " 'cot': \"You are given a dataset of 240 sentences which you need to cluster into one of the 8 clusters. Output exactly 240 cluster labels.\\nThink step by step.\\nFor each sentence, assignment it to one of the 8 cluster label and output the cluster number. Your output should ONLY contain a list of 240 integers in the format <ANS_START>[cluster asignments]<ANS_END>. Do not include any other texts.\\n  \\nExample:\\nInput Sentences: ['sentence1', 'sentence2', 'sentence3']\\nOutput Labels: [1, 0, 2]\\n\\n\",\n",
       " 'pw_wo_reasoning': \"Expert profile: You are a data scientist with expertise in natural language processing and machine learning. You possess a deep understanding of clustering algorithms and their application to textual data. With your extensive experience, you can efficiently analyze and process datasets to uncover patterns and group sentences based on semantic similarities. You are skilled in using state-of-the-art NLP techniques and tools, such as word embeddings, vectorization, and dimensionality reduction, to convert textual data into meaningful numerical representations. Your proficiency in utilizing algorithms like k-means, hierarchical clustering, or advanced models like BERT-based clustering enables you to discern subtle differences and similarities among the sentences in the dataset. Leveraging your strong analytical and problem-solving skills, you can accurately assign each of the given 240 sentences to one of the 8 clusters, providing precise and insightful clustering labels that reflect the underlying structure of the data. Your work aids in understanding and organizing large-scale textual information efficiently.\\n\\nYou are given a dataset of 240 sentences that needs to be clustered into 8 clusters. For each sentence, assign a cluster label such that the total number of labels matches exactly 240. \\n\\nInstructions:\\n1. For each sentence, assign it to a cluster by providing a specific cluster label.\\n2. Ensure that the number of labels output is exactly the same as the number of input sentences, 240.\\n3. Format your output as a sequential list where each label corresponds to its sentence in the same order.\\n4. Verify that every sentence has a cluster label assigned without any omissions.\\n5. Double-check your final output to confirm it contains exactly 240 cluster labels.\\n  \\nExample:\\nInput Sentences: ['sentence1', 'sentence2', 'sentence3']\\nOutput Labels: [1, 0, 2]\\n\\nMake sure each output list of labels directly matches the number of sentences given.\\n\\n\\n[Question] ['create a playlist of my favorite songs', 'find the nearest Thai restaurant', 'which team won the world series in 2020', 'how many calories are burnt in a 30-minute run', 'can you show me my calendar for today', 'what is the current exchange rate for usd to eur', 'write a report on the latest tech trends', 'locate a public library near me', 'turn on the AC to 70 degrees', 'what ingredients are needed for chocolate cake', 'display my latest photos', 'how to perform CPR', 'suggest a workout plan for beginners', 'play the next episode of my favorite series', 'book an appointment for a haircut']\\n[Answer] <ANS_START>[55, 72, 148, 43, 10, 136, 121, 37, 80, 43, 19, 58, 95, 76, 134]<ANS_END>\\n\\n[Question] ['change my phone wallpaper to the latest downloaded image', 'calculate the tip for a $50 meal', 'find my current GPS location', 'translate the word friendship to Spanish', 'who is the president of France', 'wake me up at 6:30 am tomorrow', 'delete all messages from my inbox', 'what time does the sun set today', 'recommend a sci-fi book', 'search for vegan recipes on the internet', 'schedule a dentist appointment for next week', 'show me directions to Central Park', 'is there a basketball game today', 'add $20 to my Starbucks card', 'when does the next train to Boston depart']\\n[Answer] <ANS_START>[21, 48, 112, 45, 132, 101, 60, 84, 91, 134, 109, 24, 105, 125, 146]<ANS_END>\\n\\n[Question] ['order a coffee from Starbucks', 'delete my last note', 'who invented the telephone', 'paint my living room green', 'what is the square root of 144', 'find a recipe for spaghetti carbonara', 'convert 100 degrees Fahrenheit to Celsius', 'is my flight to LA on time', 'give me a summary of the book 1984', 'what are the symptoms of the flu', 'set a reminder to pick up groceries at 5 pm', 'where is the closest gas station', 'what is the speed of light', 'block spam emails in my account', 'buy tickets for the concert next Saturday']\\n[Answer] <ANS_START>[88, 144, 39, 93, 42, 24, 77, 145, 74, 112, 95, 69, 133, 60, 18]<ANS_END>\\n\\n\\nFor each sentence, assignment it to one of the 8 cluster label and output the cluster number. Your output should ONLY contain a list of 240 integers in the format <ANS_START>[cluster asignments]<ANS_END>. Do not include any other texts.\\nKeywords: Data clustering, Sentence labeling, Cluster assignment, Verification, Accuracy\\n\",\n",
       " 'pw_w_reasoning': \"Expert Profile: You are a data scientist with a strong background in machine learning, particularly in natural language processing and unsupervised learning techniques. You have expertise in text analysis and clustering algorithms, enabling you to effectively group sentences based on their semantic similarities. Your skills include applying methods such as k-means clustering, hierarchical clustering, and advanced techniques like topic modeling or sentence embeddings to create meaningful clusters. You possess a deep understanding of the nuances of language and contextual variations, ensuring that your clustering takes into account both syntactical and semantic content. By leveraging your expertise, you can output exactly 240 cluster labels, ensuring each sentence is accurately classified into one of the 8 clusters. Your analytical prowess ensures that the clustering solution is both interpretable and robust, aligning with the underlying patterns of the data.\\n\\nYou are provided with a dataset containing 240 sentences. Your task is to cluster these sentences into exactly 8 predefined clusters and return 240 cluster labels, ensuring each sentence is assigned one label corresponding to the cluster it belongs to.\\n\\n1. **Defining Predefined Clusters**: Begin by clearly defining the 8 predefined clusters based on provided guidelines or through careful inference from sentence characteristics. Avoid arbitrary cluster assignments by ensuring thorough familiarity with cluster definitions.\\n\\n2. **Consistent Output Length**: Ensure that the number of output cluster labels matches the number of input sentences. Carefully cross-check this count before finalizing your output to avoid omission errors. Emphasize the importance of maintaining a strict one-to-one correspondence between input sentences and output labels.\\n\\n3. **Clustering Approach**: Use a robust clustering method to group sentences based on semantic similarities. Consider AI models capable of semantic analysis, rule-based logic, or relevant distance metrics. Provide a succinct rationale for your chosen methodology.\\n\\n4. **Handling Ambiguous Sentences**: For sentences that do not clearly align with any cluster, assign them to the most similar predefined cluster. Clearly document your approach to ambiguous cases to avoid inconsistencies.\\n\\n5. **Error Handling**: Implement a verification step specifically designed to handle errors in output length or discrepancies in label assignments. This should include comparing the number of output labels with the number of input sentences and making necessary corrections.\\n\\n6. **Validation Process**: Employ a systematic approach to validate that each input sentence has an associated output label. Confirm that the total number of output labels precisely matches the number of input sentences.\\n\\n7. **Output Format**: Present the list of cluster labels in a sequential order matching the input sentences, ensuring clarity in the final output.\\n\\n8. **Cluster Verification**: After assignment, verify that the distribution of sentences across clusters is fair and consistent, adhering to any predefined balance criteria if applicable.\\n\\nBy adhering to these steps, ensure the accurate clustering of input sentences without omissions, preserving the integrity of the predefined clusters and the one-to-one label assignment.\\n\\n\\n[Question] ['what is the forecast for this weekend', 'can you help me learn what's trending now in fashion', 'my laptop just shut down unexpectedly; why could that be', 'how can i make the perfect cup of espresso', 'i would like to buy a pair of running shoes; which brand is the best', 'is the song playlist ready for the gym session', 'what would you recommend for a family of four visiting the zoo', 'i need a new charger; are there any durable brands', 'tell me a fun fact about space exploration', 'how do i set up a new profile on my device', 'where can i find an affordable mechanic in town', 'could you write a short paragraph on the benefits of meditation', 'i'm feeling overwhelmed; what can help with anxiety', 'should i choose wool or cotton blends for winter apparel', 'download the latest episode of my favorite podcast']\\n[Answer] To arrive at the correct clustering of sentences into predefined clusters, follow these detailed steps:\\n\\n1. **Understand the Input**: We have a list of sentences [Question] requiring categorization into 8 predefined clusters. The total number of sentences is 240.\\n\\n2. **Define Predefined Clusters**: Initially, clusters were implicitly defined through prior familiarization or characteristics observed in example datasets. Here, assume clusters correspond to distinct topics or categories relevant to the sentences, such as “Weather Forecast”, “Fashion Trends”, “Technical Support”, “Food/Beverage”, “Shopping Recommendations”, “Music”, “Family Activities”, “Electronics”, “Space/Facts”, “Device Setup”, “Service Providers”, “Personal Development”, “Mental Health”, “Clothing Choices”, and “Entertainment/Media”.\\n\\n3. **Sentence Analysis and Clustering Approach**:\\n   - For semantic similarities: Employ a natural language processing model like BERT to encapture the context and meaning of each sentence.\\n   - Using embeddings from such models, calculate distances between sentence vectors to understand topic similarities.\\n   - Label sentences by similarity to these predefined cluster vectors through a method like k-means clustering, or with heuristic rules derived from the clarity of domain knowledge.\\n\\n4. **Assigning Clusters**:\\n   - Analyze each sentence, determining its semantic content and aligning it with the closest predefined cluster.\\n   - For example, the sentence 'what is the forecast for this weekend' would align with a cluster about weather.\\n   - Sentences about technical support (like 'my laptop just shut down unexpectedly; why could that be') would align with a different cluster relevant to technology.\\n\\n5. **Handling Ambiguous Sentences**:\\n   - For any ambiguous sentences, apply a nearest-neighbor approach or assign them based on secondary keywords indicating a cluster and document the rationale.\\n\\n6. **Verify Sentence-Cluster Consistency**:\\n   - Ensure each of the 240 sentences has an associated cluster label by analyzing the output count.\\n   - Confirm with manual verification that ambiguous sentences are reasonably assigned to the closest clusters based on topic or intent.\\n\\n7. **Output Maintenance**:\\n   - Once assigned, list down cluster labels for output in order, addressing each sentence’s position in the input list to ensure readability and clarity in presentation.\\n  \\n8. **Verify Clustering**:\\n   - Conduct a post-assignment review to verify that the distribution across clusters is balanced or proportional to input uncertainties.\\n   - Double-check that no sentences are left unassigned or grouped incorrectly due to oversight.\\n\\n9. **Output the Cluster Labels**: Following these steps, produce the output label for each input sentence, as depicted in the example answers: [9, 45, 123, 145, 57, 89, 68, 106, 33, 77, 54, 131, 87, 53, 142], ensuring each number corresponds to a functioning and meaning-based cluster assignment of sentences.\\n\\nThrough this detailed reasoning chain, the final list of cluster labels should accurately reflect the grouping of input sentences into the 8 distinct clusters, staying faithful to initial guidelines and submitted in a consistent, orderly format. <ANS_START>[9, 45, 123, 145, 57, 89, 68, 106, 33, 77, 54, 131, 87, 53, 142]<ANS_END>\\n\\n[Question] ['explain how machine learning can improve healthcare', 'can you find the nearest vegan restaurant that delivers', 'after the meeting, remind me to check my emails', 'what is the process for resetting a forgotten password', 'are there any romantic comedies released this year', 'is it more efficient to batch process tasks in the morning', 'are there any updates on the local sports team', 'how do you handle stress at work effectively', 'identify the main themes in the novel 1984', 'suggest a movie that has a similar vibe to inception', 'what's the usual turnaround time for car repairs', 'could you record the meeting notes and send them to everyone', 'what is the role of antioxidants in skincare', 'i need to calculate how much paint i need for my bedroom']\\n[Answer] To accurately cluster the given sentences into predefined clusters, we need to follow a structured process, adhering to the outlined task description and instructions. Below is the step-by-step reasoning chain that guides us through this task:\\n\\n1. **Understanding Predefined Clusters**:\\n   - Begin by categorizing sentences into distinct themes or topics, which represent the predefined clusters. These could be topics like healthcare, dining, task management, technology, entertainment, sports, work-life balance, literature, cinematic experiences, automotive, professional reminders, skincare, and home improvement calculations.\\n\\n2. **Sentence Analysis**:\\n   - Carefully read each sentence to understand its main theme or topic. This involves semantic analysis which might involve using natural language processing (NLP) techniques to capture the underlying themes and topics.\\n\\n3. **Cluster Assignments**:\\n   - Assign each sentence to the most relevant cluster based on the detected theme. This would require aligning the sentence context to one of the predefined clusters and being consistent with interpretations across all sentences.\\n\\n4. **Handling Ambiguities**:\\n   - If a sentence seems ambiguous or potentially fits multiple clusters, use contextual cues within the sentence to determine the strongest association. When necessary, leverage external domain knowledge to make a more informed decision.\\n\\n5. **Verification of Output Consistency**:\\n   - Ensure that the number of labels outputs equals the number of input sentences, i.e., each sentence must be assigned to precisely one cluster without any omissions or duplications.\\n\\n6. **Output Formatting**:\\n   - Present cluster labels in a one-to-one correspondence with the input sentences, maintaining the same sequential order as the input list.\\n\\n7. **Rationale for Methodology**:\\n   - Document the chosen clustering methodology, which might involve using AI models for semantic processing, manual rule-based sorting, or distance metrics in a vector space, explaining why this method is robust and suitable for the task.\\n\\n8. **Validation and Error Handling**:\\n   - Conduct a final verification check to ensure the correct number of labels and fair distribution among clusters, making adjustments as needed to comply with any guidelines on balancing and integrity.\\n\\nUsing this reasoning chain ensures that each sentence is thoroughly analyzed, correctly clustered, and output in a coherent manner. The labels themselves are representative of the logical sequence in which each sentence aligns with the inferred or defined cluster criteria, ensuring accurate and meaningful clustering outcomes. <ANS_START>[113, 75, 152, 44, 39, 122, 137, 15, 91, 29, 48, 97, 66, 138]<ANS_END>\\n\\n[Question] ['brainstorm creative ways to recycle plastic', 'how do i cook a steak to medium rare', 'what are the ethical implications of artificial intelligence', 'how can i troubleshoot the wifi connectivity issues', 'i'd like to explore different genres of music', 'are there any historical documentaries worth watching', 'guide me through setting up a business account', 'help me compile a list of recipes for a vegan diet', 'could you play a soothing playlist for relaxation', 'what strategies increase productivity while working from home', 'why doesn't my device recognize my fingerprint', 'what are the top three tourist attractions in paris', 'explain the significance of the renaissance period', 'how can i locate my misplaced phone']\\n[Answer] To effectively solve the problem of clustering the given sentences into the predefined clusters, we need to follow a systematic approach. Here's a comprehensive reasoning chain detailing the necessary steps:\\n\\n1. **Understand the Clustering Objective**: We're tasked with clustering sentences into predefined categories. For the example given, cluster IDs such as 24, 59, 110, etc., represent these predefined categories.\\n\\n2. **Preprocess the Sentences**: Begin by analyzing each sentence to discern its key themes or subject matter. Recognize specific keywords or phrases within each sentence that indicate the topic. For instance, words like 'recycle,' 'plastic,' and 'creative' in 'brainstorm creative ways to recycle plastic' signal a focus on environmental concerns or innovation.\\n\\n3. **Identify Predefined Clusters**: Determine the shared characteristics or themes that define each cluster:\\n   - Cluster 24 might relate to environmental issues or creativity.\\n   - Cluster 59 could be linked to culinary techniques or food preparation.\\n   - Cluster 110 might focus on technological ethics or consequences.\\n   - Continue this process for each cluster, understanding their distinguishing characteristics.\\n\\n4. **Sentence Analysis and Matching**: For each sentence, perform semantic analysis using AI models or heuristic rules to match the sentence with the most fitting cluster:\\n   - 'brainstorm creative ways to recycle plastic' aligns with environmental creativity (potentially cluster 24).\\n   - 'how do i cook a steak to medium rare' relates to cooking methods (potentially cluster 59).\\n   - Ensure each sentence is assessed on similarity based on content themes.\\n\\n5. **Handle Ambiguities**: If a sentence like 'how can i locate my misplaced phone' does not clearly match an obvious cluster, evaluate its closest semantic match and assign it accordingly. Here, it might relate to personal technology and get assigned to a relevant cluster such as 66 (representing practical technology usage).\\n\\n6. **Cross-Verification**:\\n   - Verify that each assigned label corresponds to one input sentence without omissions.\\n   - Ensure the total number of cluster labels matches the number of input sentences (14 in this context).\\n\\n7. **Output Validation**: \\n   - Review the entire set of cluster assignments for logical consistency.\\n   - Check balance, ensuring no predominant leaning unless explicitly required by the task briefing.\\n\\n8. **Produce Sequential Output**: Arrange the finalized cluster labels in the exact sequence the sentences were provided to maintain the one-to-one mapping from sentence to cluster label.\\n\\nBy executing these steps, we achieve a robust and coherent clustering of sentences into predefined labels, confirming the correct association between sentences and assigned clusters: [24, 59, 110, 102, 78, 114, 91, 123, 86, 20, 43, 82, 126, 66]. <ANS_START>[24, 59, 110, 102, 78, 114, 91, 123, 86, 20, 43, 82, 126, 66]<ANS_END>\\n\\n\\nFor each sentence, assignment it to one of the 8 cluster label and output the cluster number. Your output should ONLY contain a list of 240 integers in the format <ANS_START>[cluster asignments]<ANS_END>. Do not include any other texts.\\nKeywords: semantic analysis, clustering method, predefined clusters, error handling, label consistency\\n\"}"
      ]
     },
     "execution_count": 42,
     "metadata": {},
     "output_type": "execute_result"
    }
   ],
   "source": [
    "# Load prompt\n",
    "with open('prompt_template.json', 'r', encoding=\"utf-8\") as file:\n",
    "    prompt_template = json.load(file)\n",
    "\n",
    "for prompt in prompt_template.keys():\n",
    "    prompt_template[prompt] = prompt_template[prompt].replace(\"{n}\", str(n)).replace(\"{k}\", str(k))\n",
    "\n",
    "prompt_template"
   ]
  },
  {
   "cell_type": "code",
   "execution_count": 52,
   "metadata": {},
   "outputs": [
    {
     "name": "stdout",
     "output_type": "stream",
     "text": [
      "#### Running with prompt - vanilla\n",
      "\n"
     ]
    },
    {
     "name": "stderr",
     "output_type": "stream",
     "text": [
      "  0%|          | 0/1 [00:00<?, ?it/s]"
     ]
    }
   ],
   "source": [
    "for prompt in prompt_template.keys():\n",
    "    results = []\n",
    "    instruction = prompt_template[prompt]\n",
    "    print(f\"#### Running with prompt - {prompt}\\n\")\n",
    "    with open(f'clustering_result/banking77_prompt/prompting_results_{prompt}_banking77.csv', 'a', newline='') as csvfile:\n",
    "        writer = csv.writer(csvfile)\n",
    "        for i in tqdm(range(0, 50)):\n",
    "            try:\n",
    "                result = generate_cluster(texts, instruction)\n",
    "            except Exception as e:\n",
    "                print(f\"GPT Error: {e}\")\n",
    "            try:\n",
    "                processed_result = extract_final_answer(result)         # Extract the final answer from the result\n",
    "            except:\n",
    "                print(\"INVALID OUTPUT\")\n",
    "                print(result)\n",
    "                break\n",
    "            label_count = len(processed_result[1:-1].split(\", \"))         # Count the number of labels in the processed result\n",
    "            writer.writerow([i, label_count, processed_result])\n",
    "            results.append({'Iteration': i, 'Label Count': label_count, 'Processed Result': processed_result})\n",
    "\n",
    "    # Convert the results to a DataFrame\n",
    "    # df_results = pd.DataFrame(results)\n",
    "    # df_label_counts = pd.read_csv('prompting_label_counts_banking77.csv')\n",
    "    # df_label_counts[f\"{prompt}\"] = df_results[\"Label Count\"]\n",
    "\n",
    "    # df_label_counts.to_csv('prompting_label_counts_banking77.csv', index=False)"
   ]
  },
  {
   "cell_type": "code",
   "execution_count": 27,
   "metadata": {},
   "outputs": [
    {
     "name": "stderr",
     "output_type": "stream",
     "text": [
      "C:\\Users\\MengZe\\AppData\\Local\\Temp\\ipykernel_9848\\3581202624.py:8: FutureWarning: Series.__getitem__ treating keys as positions is deprecated. In a future version, integer keys will always be treated as labels (consistent with DataFrame behavior). To access a value by position, use `ser.iloc[pos]`\n",
      "  cluster = [x.strip() for x in row[2][1:-1].split(\",\")]\n",
      "C:\\Users\\MengZe\\AppData\\Local\\Temp\\ipykernel_9848\\3581202624.py:8: FutureWarning: Series.__getitem__ treating keys as positions is deprecated. In a future version, integer keys will always be treated as labels (consistent with DataFrame behavior). To access a value by position, use `ser.iloc[pos]`\n",
      "  cluster = [x.strip() for x in row[2][1:-1].split(\",\")]\n",
      "C:\\Users\\MengZe\\AppData\\Local\\Temp\\ipykernel_9848\\3581202624.py:8: FutureWarning: Series.__getitem__ treating keys as positions is deprecated. In a future version, integer keys will always be treated as labels (consistent with DataFrame behavior). To access a value by position, use `ser.iloc[pos]`\n",
      "  cluster = [x.strip() for x in row[2][1:-1].split(\",\")]\n",
      "C:\\Users\\MengZe\\AppData\\Local\\Temp\\ipykernel_9848\\3581202624.py:8: FutureWarning: Series.__getitem__ treating keys as positions is deprecated. In a future version, integer keys will always be treated as labels (consistent with DataFrame behavior). To access a value by position, use `ser.iloc[pos]`\n",
      "  cluster = [x.strip() for x in row[2][1:-1].split(\",\")]\n",
      "C:\\Users\\MengZe\\AppData\\Local\\Temp\\ipykernel_9848\\3581202624.py:8: FutureWarning: Series.__getitem__ treating keys as positions is deprecated. In a future version, integer keys will always be treated as labels (consistent with DataFrame behavior). To access a value by position, use `ser.iloc[pos]`\n",
      "  cluster = [x.strip() for x in row[2][1:-1].split(\",\")]\n"
     ]
    }
   ],
   "source": [
    "bank77_count = pd.read_csv(\"clustering_result/count_statistics/prompting_label_counts_banking77.csv\")\n",
    "\n",
    "for prompt in prompt_template.keys():\n",
    "    df = pd.read_csv(f'clustering_result/banking77_prompt/prompting_results_{prompt}_banking77.csv')\n",
    "    df.columns = ['Index', 'Label Count', 'Cluster Assignment']\n",
    "    for i, row in df.iterrows():\n",
    "        df.at[i, 'Index'] = int(i)+1\n",
    "        cluster = [x.strip() for x in row[2][1:-1].split(\",\")]\n",
    "        df.at[i, 'Label Count'] = int(len(cluster))\n",
    "    df['Label Count'] = df['Label Count'].astype(int)\n",
    "    df.to_csv(f'clustering_result/banking77_prompt/prompting_results_{prompt}_banking77.csv', index=None)\n",
    "    bank77_count[f\"{prompt}\"] = df['Label Count']\n",
    "\n",
    "\n",
    "bank77_count.to_csv(\"clustering_result/count_statistics/prompting_label_counts_banking77.csv\", index=None)"
   ]
  },
  {
   "cell_type": "code",
   "execution_count": 28,
   "metadata": {},
   "outputs": [
    {
     "data": {
      "text/html": [
       "<div>\n",
       "<style scoped>\n",
       "    .dataframe tbody tr th:only-of-type {\n",
       "        vertical-align: middle;\n",
       "    }\n",
       "\n",
       "    .dataframe tbody tr th {\n",
       "        vertical-align: top;\n",
       "    }\n",
       "\n",
       "    .dataframe thead th {\n",
       "        text-align: right;\n",
       "    }\n",
       "</style>\n",
       "<table border=\"1\" class=\"dataframe\">\n",
       "  <thead>\n",
       "    <tr style=\"text-align: right;\">\n",
       "      <th></th>\n",
       "      <th>less than</th>\n",
       "      <th>equal to</th>\n",
       "      <th>greater than</th>\n",
       "    </tr>\n",
       "  </thead>\n",
       "  <tbody>\n",
       "    <tr>\n",
       "      <th>vanilla</th>\n",
       "      <td>6</td>\n",
       "      <td>0</td>\n",
       "      <td>44</td>\n",
       "    </tr>\n",
       "    <tr>\n",
       "      <th>cot</th>\n",
       "      <td>13</td>\n",
       "      <td>2</td>\n",
       "      <td>35</td>\n",
       "    </tr>\n",
       "    <tr>\n",
       "      <th>fewshot</th>\n",
       "      <td>12</td>\n",
       "      <td>2</td>\n",
       "      <td>36</td>\n",
       "    </tr>\n",
       "    <tr>\n",
       "      <th>pw_wo_reasoning</th>\n",
       "      <td>6</td>\n",
       "      <td>3</td>\n",
       "      <td>41</td>\n",
       "    </tr>\n",
       "    <tr>\n",
       "      <th>pw_w_reasoning</th>\n",
       "      <td>5</td>\n",
       "      <td>0</td>\n",
       "      <td>45</td>\n",
       "    </tr>\n",
       "  </tbody>\n",
       "</table>\n",
       "</div>"
      ],
      "text/plain": [
       "                 less than  equal to  greater than\n",
       "vanilla                  6         0            44\n",
       "cot                     13         2            35\n",
       "fewshot                 12         2            36\n",
       "pw_wo_reasoning          6         3            41\n",
       "pw_w_reasoning           5         0            45"
      ]
     },
     "execution_count": 28,
     "metadata": {},
     "output_type": "execute_result"
    }
   ],
   "source": [
    "threshold = 240\n",
    "\n",
    "counts = {}\n",
    "\n",
    "for col in bank77_count.columns:\n",
    "    counts[col] = {\n",
    "        'less than': (bank77_count[col] < threshold).sum(),\n",
    "        'equal to': (bank77_count[col] == threshold).sum(),\n",
    "        'greater than': (bank77_count[col] > threshold).sum()\n",
    "    }\n",
    "\n",
    "counts_df = pd.DataFrame(counts).T\n",
    "counts_df"
   ]
  },
  {
   "cell_type": "code",
   "execution_count": 25,
   "metadata": {},
   "outputs": [
    {
     "name": "stdout",
     "output_type": "stream",
     "text": [
      "vanilla: 17\n",
      "fewshot: 44\n",
      "cot: 15\n",
      "pw_wo_reasoning: 25\n",
      "pw_w_reasoning: 24\n"
     ]
    },
    {
     "name": "stderr",
     "output_type": "stream",
     "text": [
      "C:\\Users\\MengZe\\AppData\\Local\\Temp\\ipykernel_9848\\1340956963.py:6: FutureWarning: Series.__getitem__ treating keys as positions is deprecated. In a future version, integer keys will always be treated as labels (consistent with DataFrame behavior). To access a value by position, use `ser.iloc[pos]`\n",
      "  labels = list(map(int, row[2][1:-1].split(\", \")))\n",
      "C:\\Users\\MengZe\\AppData\\Local\\Temp\\ipykernel_9848\\1340956963.py:6: FutureWarning: Series.__getitem__ treating keys as positions is deprecated. In a future version, integer keys will always be treated as labels (consistent with DataFrame behavior). To access a value by position, use `ser.iloc[pos]`\n",
      "  labels = list(map(int, row[2][1:-1].split(\", \")))\n",
      "C:\\Users\\MengZe\\AppData\\Local\\Temp\\ipykernel_9848\\1340956963.py:6: FutureWarning: Series.__getitem__ treating keys as positions is deprecated. In a future version, integer keys will always be treated as labels (consistent with DataFrame behavior). To access a value by position, use `ser.iloc[pos]`\n",
      "  labels = list(map(int, row[2][1:-1].split(\", \")))\n",
      "C:\\Users\\MengZe\\AppData\\Local\\Temp\\ipykernel_9848\\1340956963.py:6: FutureWarning: Series.__getitem__ treating keys as positions is deprecated. In a future version, integer keys will always be treated as labels (consistent with DataFrame behavior). To access a value by position, use `ser.iloc[pos]`\n",
      "  labels = list(map(int, row[2][1:-1].split(\", \")))\n",
      "C:\\Users\\MengZe\\AppData\\Local\\Temp\\ipykernel_9848\\1340956963.py:6: FutureWarning: Series.__getitem__ treating keys as positions is deprecated. In a future version, integer keys will always be treated as labels (consistent with DataFrame behavior). To access a value by position, use `ser.iloc[pos]`\n",
      "  labels = list(map(int, row[2][1:-1].split(\", \")))\n"
     ]
    }
   ],
   "source": [
    "for prompt in prompt_template.keys():\n",
    "    df = pd.read_csv(f'clustering_result/banking77_prompt/prompting_results_{prompt}_banking77.csv')\n",
    "    df.columns = ['Index', 'Label Count', 'Cluster Assignment']\n",
    "    counter = 0\n",
    "    for i, row in df.iterrows():\n",
    "        labels = list(map(int, row[2][1:-1].split(\", \")))\n",
    "        if len(set(labels)) < 8:\n",
    "            counter += 1\n",
    "    print(f\"{prompt}: {counter}\")"
   ]
  },
  {
   "cell_type": "code",
   "execution_count": 47,
   "metadata": {},
   "outputs": [
    {
     "name": "stdout",
     "output_type": "stream",
     "text": [
      "fewshot: 0.0\n",
      "fewshot: 0.8576856875185628\n",
      "cot: 0.6918230495594236\n",
      "cot: 0.7631839406475999\n",
      "pw_wo_reasoning: 0.7603648085413857\n",
      "pw_wo_reasoning: 0.7323436932792137\n",
      "pw_wo_reasoning: 0.7504005902133457\n"
     ]
    },
    {
     "name": "stderr",
     "output_type": "stream",
     "text": [
      "C:\\Users\\MengZe\\AppData\\Local\\Temp\\ipykernel_9848\\2305890738.py:8: FutureWarning: Series.__getitem__ treating keys as positions is deprecated. In a future version, integer keys will always be treated as labels (consistent with DataFrame behavior). To access a value by position, use `ser.iloc[pos]`\n",
      "  labels = list(map(int, row[2][1:-1].split(\", \")))\n",
      "C:\\Users\\MengZe\\AppData\\Local\\Temp\\ipykernel_9848\\2305890738.py:8: FutureWarning: Series.__getitem__ treating keys as positions is deprecated. In a future version, integer keys will always be treated as labels (consistent with DataFrame behavior). To access a value by position, use `ser.iloc[pos]`\n",
      "  labels = list(map(int, row[2][1:-1].split(\", \")))\n",
      "C:\\Users\\MengZe\\AppData\\Local\\Temp\\ipykernel_9848\\2305890738.py:8: FutureWarning: Series.__getitem__ treating keys as positions is deprecated. In a future version, integer keys will always be treated as labels (consistent with DataFrame behavior). To access a value by position, use `ser.iloc[pos]`\n",
      "  labels = list(map(int, row[2][1:-1].split(\", \")))\n",
      "C:\\Users\\MengZe\\AppData\\Local\\Temp\\ipykernel_9848\\2305890738.py:8: FutureWarning: Series.__getitem__ treating keys as positions is deprecated. In a future version, integer keys will always be treated as labels (consistent with DataFrame behavior). To access a value by position, use `ser.iloc[pos]`\n",
      "  labels = list(map(int, row[2][1:-1].split(\", \")))\n",
      "C:\\Users\\MengZe\\AppData\\Local\\Temp\\ipykernel_9848\\2305890738.py:8: FutureWarning: Series.__getitem__ treating keys as positions is deprecated. In a future version, integer keys will always be treated as labels (consistent with DataFrame behavior). To access a value by position, use `ser.iloc[pos]`\n",
      "  labels = list(map(int, row[2][1:-1].split(\", \")))\n",
      "C:\\Users\\MengZe\\AppData\\Local\\Temp\\ipykernel_9848\\2305890738.py:8: FutureWarning: Series.__getitem__ treating keys as positions is deprecated. In a future version, integer keys will always be treated as labels (consistent with DataFrame behavior). To access a value by position, use `ser.iloc[pos]`\n",
      "  labels = list(map(int, row[2][1:-1].split(\", \")))\n",
      "C:\\Users\\MengZe\\AppData\\Local\\Temp\\ipykernel_9848\\2305890738.py:8: FutureWarning: Series.__getitem__ treating keys as positions is deprecated. In a future version, integer keys will always be treated as labels (consistent with DataFrame behavior). To access a value by position, use `ser.iloc[pos]`\n",
      "  labels = list(map(int, row[2][1:-1].split(\", \")))\n"
     ]
    }
   ],
   "source": [
    "from sklearn.metrics.cluster import normalized_mutual_info_score\n",
    "\n",
    "for prompt in prompt_template.keys():\n",
    "    df = pd.read_csv(f'clustering_result/banking77_prompt/prompting_results_{prompt}_banking77.csv')\n",
    "    df.columns = ['Index', 'Label Count', 'Cluster Assignment']\n",
    "    for i, row in df.iterrows():\n",
    "        if row[\"Label Count\"] == n:\n",
    "            labels = list(map(int, row[2][1:-1].split(\", \")))\n",
    "            nmi = normalized_mutual_info_score(labels, cluster_labels)\n",
    "            print(f\"{prompt}: {nmi}\")"
   ]
  }
 ],
 "metadata": {
  "kernelspec": {
   "display_name": "Python 3",
   "language": "python",
   "name": "python3"
  },
  "language_info": {
   "codemirror_mode": {
    "name": "ipython",
    "version": 3
   },
   "file_extension": ".py",
   "mimetype": "text/x-python",
   "name": "python",
   "nbconvert_exporter": "python",
   "pygments_lexer": "ipython3",
   "version": "3.12.6"
  }
 },
 "nbformat": 4,
 "nbformat_minor": 4
}
